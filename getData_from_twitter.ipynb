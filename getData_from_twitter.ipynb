{
  "cells": [
    {
      "cell_type": "code",
      "source": [
        "!pip install xlsxwriter\n",
        "!pip install Twython"
      ],
      "metadata": {
        "id": "9BOqqlXQ26oA"
      },
      "id": "9BOqqlXQ26oA",
      "execution_count": null,
      "outputs": []
    },
    {
      "cell_type": "code",
      "execution_count": null,
      "id": "c78735fc",
      "metadata": {
        "id": "c78735fc"
      },
      "outputs": [],
      "source": [
        "import pandas as pd\n",
        "import tweepy\n",
        "from tweepy import *\n",
        "import xlsxwriter\n",
        "from twython import Twython\n",
        "import re\n",
        "import glob\n",
        "import os"
      ]
    },
    {
      "cell_type": "code",
      "execution_count": null,
      "id": "92233142",
      "metadata": {
        "id": "92233142"
      },
      "outputs": [],
      "source": [
        "consumer_key = ''\n",
        "consumer_secret = ''\n",
        "access_token = ''\n",
        "access_token_secret = ''"
      ]
    },
    {
      "cell_type": "code",
      "execution_count": null,
      "id": "d3b6786f",
      "metadata": {
        "id": "d3b6786f"
      },
      "outputs": [],
      "source": [
        "# Authorization to consumer key and consumer secret \n",
        "auth = OAuthHandler(consumer_key, consumer_secret) \n",
        "\n",
        "# Access to user's access key and access secret \n",
        "auth.set_access_token(access_token, access_token_secret) \n",
        "\n",
        "# Calling api \n",
        "api = tweepy.API(auth, wait_on_rate_limit=True)\n",
        "\n",
        "# Twitter\n",
        "twitter = Twython(consumer_key, consumer_secret, access_token, access_token_secret)"
      ]
    },
    {
      "cell_type": "code",
      "execution_count": null,
      "id": "075ff6b8",
      "metadata": {
        "id": "075ff6b8"
      },
      "outputs": [],
      "source": [
        "#search by keyword\n",
        "def get_tweets_by_keyword(listOfTweets, keyword, numOfTweets):\n",
        "    # Iterate through all tweets containing the given word, api search mode\n",
        "    for tweet in tweepy.Cursor(api.search, lang = \"id\", q=keyword+\" -filter:retweets\", tweet_mode=\"extended\").items(numOfTweets):\n",
        "        t = tweet.full_text\n",
        "        listOfTweets.append(t)   \n",
        "    return listOfTweets"
      ]
    },
    {
      "cell_type": "code",
      "source": [
        "#search by account\n",
        "def get_tweets_by_account(listOfTweets, keyword, numOfTweets):\n",
        "    user_timeline = twitter.get_user_timeline(screen_name=keyword, count = numOfTweets, tweet_mode = \"extended\")   \n",
        "    for tweet in user_timeline:\n",
        "        t = tweet['full_text']\n",
        "        listOfTweets.append(t)       \n",
        "    return listOfTweets"
      ],
      "metadata": {
        "id": "8FyuGqtK6hEf"
      },
      "id": "8FyuGqtK6hEf",
      "execution_count": null,
      "outputs": []
    },
    {
      "cell_type": "code",
      "execution_count": null,
      "id": "1ec2fc94",
      "metadata": {
        "id": "1ec2fc94"
      },
      "outputs": [],
      "source": [
        "#keyword\n",
        "kata_kunci = []\n",
        "keyword = ['capek kerja', 'jenuh', 'kantor', 'resign', 'pekerjaan']\n",
        "\n",
        "for kd in keyword:\n",
        "    by_kata = get_tweets_by_keyword(kata_kunci, kd, 500)"
      ]
    },
    {
      "cell_type": "code",
      "execution_count": null,
      "id": "9ea5af01",
      "metadata": {
        "id": "9ea5af01"
      },
      "outputs": [],
      "source": [
        "# save tweets with .xlsx format file\n",
        "workbook = xlsxwriter.Workbook('datasetkatas2.xlsx')\n",
        "worksheet = workbook.add_worksheet()\n",
        "\n",
        "row = 0\n",
        "col = 0\n",
        "\n",
        "rowHeaders = ['tweet']\n",
        "worksheet.write_row(row, col,  tuple(rowHeaders))\n",
        "\n",
        "i = 0\n",
        "for t in by_kata:\n",
        "    new_txt = by_kata[i]\n",
        "    rowValues = [new_txt]\n",
        "    i += 1\n",
        "    row += 1\n",
        "    worksheet.write_row(row, col, tuple(rowValues))\n",
        "workbook.close()"
      ]
    }
  ],
  "metadata": {
    "kernelspec": {
      "display_name": "Python 3",
      "language": "python",
      "name": "python3"
    },
    "language_info": {
      "codemirror_mode": {
        "name": "ipython",
        "version": 3
      },
      "file_extension": ".py",
      "mimetype": "text/x-python",
      "name": "python",
      "nbconvert_exporter": "python",
      "pygments_lexer": "ipython3",
      "version": "3.8.8"
    },
    "colab": {
      "provenance": []
    }
  },
  "nbformat": 4,
  "nbformat_minor": 5
}